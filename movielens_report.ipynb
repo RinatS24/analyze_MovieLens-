{
 "cells": [
  {
   "cell_type": "markdown",
   "metadata": {},
   "source": [
    "# Movielens Report"
   ]
  },
  {
   "cell_type": "markdown",
   "metadata": {},
   "source": [
    "## Class definition *Movies*"
   ]
  },
  {
   "cell_type": "code",
   "execution_count": 2,
   "metadata": {},
   "outputs": [],
   "source": [
    "from movielens_analysis import Movies \n",
    "\n",
    "movies = Movies(\"movies.csv\")"
   ]
  },
  {
   "cell_type": "markdown",
   "metadata": {},
   "source": [
    "### Run method *dist_by_release*"
   ]
  },
  {
   "cell_type": "code",
   "execution_count": 3,
   "metadata": {},
   "outputs": [
    {
     "name": "stdout",
     "output_type": "stream",
     "text": [
      "OrderedDict({2002: 311, 2006: 295, 2001: 294, 2007: 284, 2000: 283, 2009: 282, 2003: 279, 2004: 279, 2014: 278, 1996: 276, 2015: 274, 2005: 273, 2008: 269, 1999: 263, 1997: 260, 1995: 259, 1998: 258, 2011: 254, 2010: 247, 2013: 239, 1994: 237, 2012: 233, 2016: 218, 1993: 198, 1992: 167, 1988: 165, 1987: 153, 1990: 147, 1991: 147, 2017: 147, 1989: 142, 1986: 139, 1985: 126, 1984: 101, 1981: 92, 1980: 89, 1982: 87, 1983: 83, 1979: 69, 1977: 63, 1973: 59, 1978: 59, 1965: 47, 1971: 47, 1974: 45, 1976: 44, 1964: 43, 1967: 42, 1968: 42, 1975: 42, 1966: 42, 2018: 41, 1962: 40, 1972: 39, 1963: 39, 1959: 37, 1960: 37, 1955: 36, 1969: 35, 1961: 34, 1970: 33, 1957: 33, 1958: 31, 1953: 30, 1956: 30, 1940: 25, 1949: 25, 1954: 23, 1942: 23, 1939: 23, 1946: 23, 1951: 22, 1950: 21, 1947: 20, 1948: 20, 1941: 18, 1936: 18, 1945: 17, 1937: 16, 1952: 16, 1944: 16, 1938: 15, 1931: 14, 1935: 13, 1933: 12, 1934: 11, 1943: 10, 1932: 9, 1927: 7, 1930: 5, 1926: 5, 1924: 5, 1929: 4, 1928: 4, 1925: 4, 1923: 4, 1916: 4, 1920: 2, 1922: 1, 1919: 1, 1921: 1, 1915: 1, 1917: 1, 1902: 1, 1903: 1, 1908: 1}) \n",
      "\n",
      "9.7 ms ± 0 ns per loop (mean ± std. dev. of 1 run, 1 loop each)\n"
     ]
    }
   ],
   "source": [
    "%%timeit -n 1 -r 1\n",
    "release = movies.dist_by_release()\n",
    "print(release, '\\n')"
   ]
  },
  {
   "cell_type": "markdown",
   "metadata": {},
   "source": [
    "### Run method *dist_by_genres*"
   ]
  },
  {
   "cell_type": "code",
   "execution_count": 4,
   "metadata": {},
   "outputs": [
    {
     "name": "stdout",
     "output_type": "stream",
     "text": [
      "{'Drama': 4361, 'Comedy': 3756, 'Thriller': 1894, 'Action': 1828, 'Romance': 1596, 'Adventure': 1263, 'Crime': 1199, 'Sci-Fi': 980, 'Horror': 978, 'Fantasy': 779, 'Children': 664, 'Animation': 611, 'Mystery': 573, 'Documentary': 440, 'War': 382, 'Musical': 334, 'Western': 167, 'IMAX': 158, 'Film-Noir': 87, '(no genres listed)': 34} \n",
      "\n",
      "4.63 ms ± 0 ns per loop (mean ± std. dev. of 1 run, 1 loop each)\n"
     ]
    }
   ],
   "source": [
    "%%timeit -n 1 -r 1\n",
    "genres = movies.dist_by_genres()\n",
    "print(genres, '\\n')"
   ]
  },
  {
   "cell_type": "markdown",
   "metadata": {},
   "source": [
    "### Run method *most_genres*"
   ]
  },
  {
   "cell_type": "code",
   "execution_count": 6,
   "metadata": {},
   "outputs": [
    {
     "name": "stdout",
     "output_type": "stream",
     "text": [
      "{'Rubber': 10, 'Patlabor: The Movie (Kidô keisatsu patorebâ: The Movie)': 8, 'Mulan': 7, 'Who Framed Roger Rabbit?': 7, 'Osmosis Jones': 7, 'Interstate 60': 7, 'Robots': 7, 'Pulse': 7, 'Aqua Teen Hunger Force Colon Movie Film for Theaters': 7, 'Enchanted': 7} \n",
      "\n",
      "18 ms ± 0 ns per loop (mean ± std. dev. of 1 run, 1 loop each)\n"
     ]
    }
   ],
   "source": [
    "%%timeit -n 1 -r 1\n",
    "movie = movies.most_genres(10)\n",
    "print(movie, '\\n')"
   ]
  },
  {
   "cell_type": "markdown",
   "metadata": {},
   "source": [
    "### Run method *movies_of_genre* "
   ]
  },
  {
   "cell_type": "code",
   "execution_count": 7,
   "metadata": {},
   "outputs": [
    {
     "name": "stdout",
     "output_type": "stream",
     "text": [
      "['Adventures of Rocky and Bullwinkle, The', 'Ant Bully, The', 'Antz', 'Asterix and the Vikings (Astérix et les Vikings)', \"Emperor's New Groove, The\", 'Enchanted', 'Gnomeo & Juliet', 'Home', 'Inside Out', 'Moana', 'Monsters, Inc.', 'Puss in Boots (Nagagutsu o haita neko)', 'Robots', 'Shrek', 'Shrek Forever After (a.k.a. Shrek: The Final Chapter)', 'Shrek the Third', 'Space Jam', 'TMNT (Teenage Mutant Ninja Turtles)', 'Tale of Despereaux, The', 'The Good Dinosaur', 'The Lego Movie', 'Toy Story', 'Toy Story 2', 'Toy Story 3', 'Turbo', \"Twelve Tasks of Asterix, The (Les douze travaux d'Astérix)\", 'Valiant', 'Who Framed Roger Rabbit?', 'Wild, The'] \n",
      "\n",
      "7.34 ms ± 0 ns per loop (mean ± std. dev. of 1 run, 1 loop each)\n"
     ]
    }
   ],
   "source": [
    "%%timeit -n 1 -r 1\n",
    "movie_with_genre = movies.movies_of_genre([\"Adventure\", \"Animation\", \"Children\", \"Comedy\", \"Fantasy\"])\n",
    "print(movie_with_genre, '\\n')"
   ]
  },
  {
   "cell_type": "markdown",
   "metadata": {},
   "source": [
    "### Run method *genres_of_movie*"
   ]
  },
  {
   "cell_type": "code",
   "execution_count": 8,
   "metadata": {},
   "outputs": [
    {
     "name": "stdout",
     "output_type": "stream",
     "text": [
      "['Adventure', 'Animation', 'Children', 'Comedy', 'Fantasy'] \n",
      "\n",
      "96.3 μs ± 0 ns per loop (mean ± std. dev. of 1 run, 1 loop each)\n"
     ]
    }
   ],
   "source": [
    "%%timeit -n 1 -r 1\n",
    "genres = movies.genres_of_movie('Toy Story')\n",
    "print(genres, '\\n')"
   ]
  },
  {
   "cell_type": "markdown",
   "metadata": {},
   "source": [
    "## Class definition *Tags*"
   ]
  },
  {
   "cell_type": "code",
   "execution_count": 9,
   "metadata": {},
   "outputs": [],
   "source": [
    "from movielens_analysis import Tags \n",
    "\n",
    "tags = Tags(\"tags.csv\")"
   ]
  },
  {
   "cell_type": "markdown",
   "metadata": {},
   "source": [
    "### Run method *most_words*"
   ]
  },
  {
   "cell_type": "code",
   "execution_count": 10,
   "metadata": {},
   "outputs": [
    {
     "name": "stdout",
     "output_type": "stream",
     "text": [
      "{'Something for everyone in this one... saw it without and plan on seeing it with kids!': 16, 'the catholic church is the most corrupt organization in history': 10, 'villain nonexistent or not needed for good story': 8, '06 Oscar Nominated Best Movie - Animation': 7, 'It was melodramatic and kind of dumb': 7, 'stop using useless characters for filler': 6, 'Oscar (Best Effects - Visual Effects)': 6, 'Oscar (Best Music - Original Score)': 6, 'Academy award (Best Supporting Actress)': 5, 'rich guy - poor girl': 5} \n",
      "\n",
      "1.2 ms ± 0 ns per loop (mean ± std. dev. of 1 run, 1 loop each)\n"
     ]
    }
   ],
   "source": [
    "%%timeit -n 1 -r 1\n",
    "most_words = tags.most_words(10)\n",
    "print(most_words, '\\n')"
   ]
  },
  {
   "cell_type": "markdown",
   "metadata": {},
   "source": [
    "### Run method *longest*"
   ]
  },
  {
   "cell_type": "code",
   "execution_count": 11,
   "metadata": {},
   "outputs": [
    {
     "name": "stdout",
     "output_type": "stream",
     "text": [
      "['Something for everyone in this one... saw it without and plan on seeing it with kids!', 'the catholic church is the most corrupt organization in history', 'villain nonexistent or not needed for good story', 'r:disturbing violent content including rape', '06 Oscar Nominated Best Movie - Animation', 'stop using useless characters for filler', 'Academy award (Best Supporting Actress)', 'Oscar (Best Effects - Visual Effects)', 'It was melodramatic and kind of dumb', 'r:sustained strong stylized violence'] \n",
      "\n",
      "572 μs ± 0 ns per loop (mean ± std. dev. of 1 run, 1 loop each)\n"
     ]
    }
   ],
   "source": [
    "%%timeit -n 1 -r 1\n",
    "longest_tags = tags.longest(10)\n",
    "print(longest_tags, '\\n')"
   ]
  },
  {
   "cell_type": "markdown",
   "metadata": {},
   "source": [
    "### Run method *most_popular*"
   ]
  },
  {
   "cell_type": "code",
   "execution_count": 12,
   "metadata": {},
   "outputs": [
    {
     "name": "stdout",
     "output_type": "stream",
     "text": [
      "{'In Netflix queue': 131, 'atmospheric': 36, 'superhero': 24, 'thought-provoking': 24, 'funny': 23} \n",
      "\n",
      "569 μs ± 0 ns per loop (mean ± std. dev. of 1 run, 1 loop each)\n"
     ]
    }
   ],
   "source": [
    "%%timeit -n 1 -r 1\n",
    "popular_tags = tags.most_popular(5)\n",
    "print(popular_tags, '\\n')"
   ]
  },
  {
   "cell_type": "markdown",
   "metadata": {},
   "source": [
    "### Run method *most_words_and_longest*"
   ]
  },
  {
   "cell_type": "code",
   "execution_count": 13,
   "metadata": {},
   "outputs": [
    {
     "name": "stdout",
     "output_type": "stream",
     "text": [
      "{'the catholic church is the most corrupt organization in history', 'villain nonexistent or not needed for good story', 'Something for everyone in this one... saw it without and plan on seeing it with kids!', '06 Oscar Nominated Best Movie - Animation'} \n",
      "\n",
      "1.52 ms ± 0 ns per loop (mean ± std. dev. of 1 run, 1 loop each)\n"
     ]
    }
   ],
   "source": [
    "%%timeit -n 1 -r 1\n",
    "word_long = tags.most_words_and_longest(5)\n",
    "print(word_long, '\\n')"
   ]
  },
  {
   "cell_type": "markdown",
   "metadata": {},
   "source": [
    "### Run method *tags_with*"
   ]
  },
  {
   "cell_type": "code",
   "execution_count": 14,
   "metadata": {},
   "outputs": [
    {
     "name": "stdout",
     "output_type": "stream",
     "text": [
      "['Tom Clancy', 'Tom Hanks', 'Tom Hardy'] \n",
      "\n",
      "425 μs ± 0 ns per loop (mean ± std. dev. of 1 run, 1 loop each)\n"
     ]
    }
   ],
   "source": [
    "%%timeit -n 1 -r 1\n",
    "word = tags.tags_with(\"Tom\")\n",
    "print(word, '\\n')"
   ]
  },
  {
   "cell_type": "markdown",
   "metadata": {},
   "source": [
    "### Run method *movies_with_tag*"
   ]
  },
  {
   "cell_type": "code",
   "execution_count": 16,
   "metadata": {},
   "outputs": [
    {
     "name": "stdout",
     "output_type": "stream",
     "text": [
      "['(500) Days of Summer', 'American Pie', 'Anchorman 2: The Legend Continues', 'Big Hero 6', 'Clueless', 'Django Unchained', 'Friends with Benefits', 'Game Night', 'Guardians of the Galaxy', 'Home Alone 2: Lost in New York', 'Inside Llewyn Davis', 'Jumanji: Welcome to the Jungle', 'Kung Fury', 'Pulp Fiction', 'Step Brothers', 'The Big Lebowski', 'The Big Short', 'The Brothers Bloom', 'The Croods', 'The Duff', 'The Hangover', 'The Interview', 'The Lego Batman Movie', 'Toy Story 2', 'Zombieland'] \n",
      "\n",
      "42.8 s ± 0 ns per loop (mean ± std. dev. of 1 run, 1 loop each)\n"
     ]
    }
   ],
   "source": [
    "%%timeit -n 1 -r 1\n",
    "move_titles = tags.movies_with_tag(\"funny\")\n",
    "print(move_titles, '\\n')"
   ]
  },
  {
   "cell_type": "markdown",
   "metadata": {},
   "source": [
    "### Run method *tags_of_movie*"
   ]
  },
  {
   "cell_type": "code",
   "execution_count": 17,
   "metadata": {},
   "outputs": [
    {
     "name": "stdout",
     "output_type": "stream",
     "text": [
      "['Brad Pitt', 'Chuck Palahniuk', 'David Fincher', 'Edward Norton', 'Nudity (Topless)', 'Palahnuik', 'TERRORISM', 'action', 'atmospheric', 'based on a book', 'challenging', 'classic', 'clever', 'complicated', 'consumerism', 'crime', 'dark', 'dark comedy', 'disturbing', 'double life', 'fighting', 'great acting', 'helena bonham carter', 'imaginary friend', 'imdb top 250', 'mental illness', 'mind-blowing', 'mindfuck', 'narrated', 'philosophical', 'philosophy', 'postmodern', 'powerful ending', 'psychological', 'psychological thriller', 'psychology', 'quirky', 'satirical', 'schizophrenia', 'social commentary', 'societal criticism', 'stylized', 'surreal', 'thought-provoking', 'twist', 'twist ending', 'violence', 'violent'] \n",
      "\n",
      "650 μs ± 0 ns per loop (mean ± std. dev. of 1 run, 1 loop each)\n"
     ]
    }
   ],
   "source": [
    "%%timeit -n 1 -r 1\n",
    "tags_movie = tags.tags_of_movie(2959)\n",
    "print(tags_movie, '\\n')"
   ]
  },
  {
   "cell_type": "markdown",
   "metadata": {},
   "source": [
    "## Class definition *Links*"
   ]
  },
  {
   "cell_type": "code",
   "execution_count": 21,
   "metadata": {},
   "outputs": [],
   "source": [
    "from movielens_analysis import Links \n",
    "links = Links('links.csv')\n",
    "movies = links.file_reader()"
   ]
  },
  {
   "cell_type": "markdown",
   "metadata": {},
   "source": [
    "### Run method get_imbd"
   ]
  },
  {
   "cell_type": "code",
   "execution_count": 22,
   "metadata": {},
   "outputs": [
    {
     "name": "stdout",
     "output_type": "stream",
     "text": [
      "[['movieId', 'imdbId', 'tmdbId', 'Director', 'Cumulative Worldwide Gross', 'Runtime', 'Budget'], ['9', '0114576', '9091', 'Peter Hyams', 64350171, 111, 35000000], ['8', '0112302', '45325', 'Peter Hewitt', 23920048, 97, None], ['7', '0114319', '11860', 'Sydney Pollack', 53696959, 127, 58000000], ['6', '0113277', '949', 'Michael Mann', 187436818, 170, 60000000], ['5', '0113041', '11862', 'Charles Shyer', 76594107, 106, 30000000], ['4', '0114885', '31357', 'Forest Whitaker', 81452156, 124, 16000000], ['3', '0113228', '15602', 'Howard Deutch', 71518503, 101, 25000000], ['2', '0113497', '8844', 'Joe Johnston', 262821940, 104, 65000000], ['19', '0112281', '9273', 'Steve Oedekerk', 212385533, 90, 30000000], ['18', '0113101', '5', 'Allison Anders', 4257354, 98, 4000000], ['17', '0114388', '4584', 'Ang Lee', 134582776, 136, 16000000], ['16', '0112641', '524', 'Martin Scorsese', 116112375, 178, 52000000], ['15', '0112760', '1408', 'Renny Harlin', 10017322, 124, 98000000], ['14', '0113987', '10858', 'Oliver Stone', 13681765, 192, 44000000], ['13', '0112453', '21032', 'Simon Wells', 11349090, 78, None], ['12', '0112896', '12110', 'Mel Brooks', 10772144, 88, 30000000], ['11', '0112346', '9087', 'Rob Reiner', 107879496, 114, 62000000], ['10', '0113189', '710', 'Martin Campbell', 352194034, 130, 60000000], ['1', '0114709', '862', 'John Lasseter', 394436586, 81, 30000000]] \n",
      "\n",
      "32.4 s ± 0 ns per loop (mean ± std. dev. of 1 run, 1 loop each)\n"
     ]
    }
   ],
   "source": [
    "%%timeit -n 1 -r 1\n",
    "fields = ['Director', 'Cumulative Worldwide Gross', 'Runtime', 'Budget']\n",
    "imdb_data = links.get_imdb(movies[:20], fields)\n",
    "print(imdb_data, '\\n')"
   ]
  },
  {
   "cell_type": "markdown",
   "metadata": {},
   "source": [
    "### Run method valid_list_without_header"
   ]
  },
  {
   "cell_type": "markdown",
   "metadata": {},
   "source": [
    "### Run method top_directors"
   ]
  },
  {
   "cell_type": "code",
   "execution_count": 23,
   "metadata": {},
   "outputs": [
    {
     "name": "stdout",
     "output_type": "stream",
     "text": [
      "{'John Lasseter': 1, 'Joe Johnston': 1, 'Howard Deutch': 1, 'Forest Whitaker': 1, 'Charles Shyer': 1, 'Michael Mann': 1, 'Sydney Pollack': 1, 'Peter Hewitt': 1, 'Peter Hyams': 1, 'Martin Campbell': 1} \n",
      "\n",
      "437 μs ± 0 ns per loop (mean ± std. dev. of 1 run, 1 loop each)\n"
     ]
    }
   ],
   "source": [
    "%%timeit -n 1 -r 1\n",
    "top_directors = links.top_directors(10)\n",
    "print(top_directors, '\\n')"
   ]
  },
  {
   "cell_type": "markdown",
   "metadata": {},
   "source": [
    "### Run method most_expensive"
   ]
  },
  {
   "cell_type": "code",
   "execution_count": 24,
   "metadata": {},
   "outputs": [
    {
     "name": "stdout",
     "output_type": "stream",
     "text": [
      "{'15': 98000000, '2': 65000000, '11': 62000000, '6': 60000000, '10': 60000000, '7': 58000000, '16': 52000000, '14': 44000000, '9': 35000000, '1': 30000000} \n",
      "\n",
      "707 μs ± 0 ns per loop (mean ± std. dev. of 1 run, 1 loop each)\n"
     ]
    }
   ],
   "source": [
    "%%timeit -n 1 -r 1\n",
    "most_expensive = links.most_expensive(10)\n",
    "print(most_expensive, '\\n')"
   ]
  },
  {
   "cell_type": "markdown",
   "metadata": {},
   "source": [
    "### Run method most_profitable"
   ]
  },
  {
   "cell_type": "code",
   "execution_count": 25,
   "metadata": {},
   "outputs": [
    {
     "name": "stdout",
     "output_type": "stream",
     "text": [
      "{'1': 364436586, '10': 292194034, '2': 197821940, '19': 182385533, '6': 127436818, '17': 118582776, '4': 65452156, '16': 64112375, '5': 46594107, '3': 46518503} \n",
      "\n",
      "622 μs ± 0 ns per loop (mean ± std. dev. of 1 run, 1 loop each)\n"
     ]
    }
   ],
   "source": [
    "%%timeit -n 1 -r 1\n",
    "most_profitable = links.most_profitable(10)\n",
    "print(most_profitable, '\\n')"
   ]
  },
  {
   "cell_type": "markdown",
   "metadata": {},
   "source": [
    "### Run method longest"
   ]
  },
  {
   "cell_type": "code",
   "execution_count": 26,
   "metadata": {},
   "outputs": [
    {
     "name": "stdout",
     "output_type": "stream",
     "text": [
      "{'14': 192, '16': 178, '6': 170, '17': 136, '10': 130, '7': 127, '4': 124, '15': 124, '11': 114, '9': 111} \n",
      "\n",
      "571 μs ± 0 ns per loop (mean ± std. dev. of 1 run, 1 loop each)\n"
     ]
    }
   ],
   "source": [
    "%%timeit -n 1 -r 1\n",
    "longest_movies = links.longest(10)\n",
    "print(longest_movies, '\\n')"
   ]
  },
  {
   "cell_type": "markdown",
   "metadata": {},
   "source": [
    "### Run method top_cost_per_minute"
   ]
  },
  {
   "cell_type": "code",
   "execution_count": 27,
   "metadata": {},
   "outputs": [
    {
     "name": "stdout",
     "output_type": "stream",
     "text": [
      "{'15': 790322.58, '2': 625000.0, '11': 543859.65, '10': 461538.46, '7': 456692.91, '1': 370370.37, '6': 352941.18, '12': 340909.09, '19': 333333.33, '9': 315315.32} \n",
      "\n",
      "584 μs ± 0 ns per loop (mean ± std. dev. of 1 run, 1 loop each)\n"
     ]
    }
   ],
   "source": [
    "%%timeit -n 1 -r 1\n",
    "top_cost_per_minute = links.top_cost_per_minute(10)\n",
    "print(top_cost_per_minute, '\\n')"
   ]
  },
  {
   "cell_type": "markdown",
   "metadata": {},
   "source": [
    "## Class definition *Ratings*"
   ]
  },
  {
   "cell_type": "code",
   "execution_count": 28,
   "metadata": {},
   "outputs": [],
   "source": [
    "from movielens_analysis import Ratings \n",
    "\n",
    "ratings = Ratings(\"ratings.csv\")"
   ]
  },
  {
   "cell_type": "markdown",
   "metadata": {},
   "source": [
    "### Run method dist_by_year"
   ]
  },
  {
   "cell_type": "code",
   "execution_count": 29,
   "metadata": {},
   "outputs": [
    {
     "name": "stdout",
     "output_type": "stream",
     "text": [
      "{1996: 6040, 1997: 1916, 1998: 507, 1999: 2439, 2000: 10061, 2001: 3922, 2002: 3478, 2003: 4014, 2004: 3279, 2005: 5813, 2006: 4059, 2007: 7114, 2008: 4351, 2009: 4158, 2010: 2300, 2011: 1690, 2012: 4657, 2013: 1664, 2014: 1439, 2015: 6616, 2016: 6702, 2017: 8199, 2018: 6418} \n",
      "\n",
      "214 ms ± 0 ns per loop (mean ± std. dev. of 1 run, 1 loop each)\n"
     ]
    }
   ],
   "source": [
    "%%timeit -n 1 -r 1\n",
    "print(ratings.Movies.dist_by_year(ratings),'\\n')"
   ]
  },
  {
   "cell_type": "markdown",
   "metadata": {},
   "source": [
    "### Run method dist_by_rating"
   ]
  },
  {
   "cell_type": "code",
   "execution_count": 30,
   "metadata": {},
   "outputs": [
    {
     "name": "stdout",
     "output_type": "stream",
     "text": [
      "{0.5: 1370, 1.0: 2811, 1.5: 1791, 2.0: 7551, 2.5: 5550, 3.0: 20047, 3.5: 13136, 4.0: 26818, 4.5: 8551, 5.0: 13211} \n",
      "\n",
      "156 ms ± 0 ns per loop (mean ± std. dev. of 1 run, 1 loop each)\n"
     ]
    }
   ],
   "source": [
    "%%timeit -n 1 -r 1\n",
    "print(ratings.Movies.dist_by_rating(ratings),'\\n')"
   ]
  },
  {
   "cell_type": "markdown",
   "metadata": {},
   "source": [
    "### Run method top_by_num_of_ratings"
   ]
  },
  {
   "cell_type": "code",
   "execution_count": 31,
   "metadata": {},
   "outputs": [
    {
     "name": "stdout",
     "output_type": "stream",
     "text": [
      "{'Forrest Gump (1994)': 329, 'Shawshank Redemption, The (1994)': 317, 'Pulp Fiction (1994)': 307, 'Silence of the Lambs, The (1991)': 279, 'Matrix, The (1999)': 278} \n",
      "\n",
      "170 ms ± 0 ns per loop (mean ± std. dev. of 1 run, 1 loop each)\n"
     ]
    }
   ],
   "source": [
    "%%timeit -n 1 -r 1\n",
    "print(ratings.Movies.top_by_num_of_ratings(ratings,5),'\\n')"
   ]
  },
  {
   "cell_type": "markdown",
   "metadata": {},
   "source": [
    "### Run method top_by_ratings"
   ]
  },
  {
   "cell_type": "code",
   "execution_count": 32,
   "metadata": {},
   "outputs": [
    {
     "name": "stdout",
     "output_type": "stream",
     "text": [
      "{'The Jinx: The Life and Deaths of Robert Durst (2015)': 5.0, 'Galaxy of Terror (Quest) (1981)': 5.0, 'Alien Contamination (1980)': 5.0, \"I'm the One That I Want (2000)\": 5.0, 'Lesson Faust (1994)': 5.0} \n",
      "\n",
      "288 ms ± 0 ns per loop (mean ± std. dev. of 1 run, 1 loop each)\n"
     ]
    }
   ],
   "source": [
    "%%timeit -n 1 -r 1\n",
    "print(ratings.Movies.top_by_ratings(ratings,5,\"average\"),'\\n')"
   ]
  },
  {
   "cell_type": "markdown",
   "metadata": {},
   "source": [
    "### Run method top_controversial"
   ]
  },
  {
   "cell_type": "code",
   "execution_count": 33,
   "metadata": {},
   "outputs": [
    {
     "name": "stdout",
     "output_type": "stream",
     "text": [
      "{'Toy Story (1995)': 4.5, 'Grumpier Old Men (1995)': 4.5, 'Seven (a.k.a. Se7en) (1995)': 4.5, 'Braveheart (1995)': 4.5, 'Dumb & Dumber (Dumb and Dumber) (1994)': 4.5} \n",
      "\n",
      "223 ms ± 0 ns per loop (mean ± std. dev. of 1 run, 1 loop each)\n"
     ]
    }
   ],
   "source": [
    "%%timeit -n 1 -r 1\n",
    "print(ratings.Movies.top_controversial(ratings,5),'\\n')"
   ]
  },
  {
   "cell_type": "markdown",
   "metadata": {},
   "source": [
    "### Run method top_by_person_of_ratings"
   ]
  },
  {
   "cell_type": "code",
   "execution_count": 34,
   "metadata": {},
   "outputs": [
    {
     "name": "stdout",
     "output_type": "stream",
     "text": [
      "{414: 2698, 599: 2478, 474: 2108, 448: 1864, 274: 1346} \n",
      "\n",
      "152 ms ± 0 ns per loop (mean ± std. dev. of 1 run, 1 loop each)\n"
     ]
    }
   ],
   "source": [
    "%%timeit -n 1 -r 1\n",
    "print(ratings.Users.top_by_person_of_ratings(ratings),'\\n')"
   ]
  },
  {
   "cell_type": "markdown",
   "metadata": {},
   "source": [
    "### Run method top_by_ratings"
   ]
  },
  {
   "cell_type": "code",
   "execution_count": 35,
   "metadata": {},
   "outputs": [
    {
     "name": "stdout",
     "output_type": "stream",
     "text": [
      "{1: 5.0, 25: 5.0, 30: 5.0, 43: 5.0, 52: 5.0} \n",
      "\n",
      "169 ms ± 0 ns per loop (mean ± std. dev. of 1 run, 1 loop each)\n"
     ]
    }
   ],
   "source": [
    "%%timeit -n 1 -r 1\n",
    "print(ratings.Users.top_by_ratings(ratings,5,\"median\"),'\\n')"
   ]
  },
  {
   "cell_type": "markdown",
   "metadata": {},
   "source": [
    "### Run method top_controversial"
   ]
  },
  {
   "cell_type": "code",
   "execution_count": 36,
   "metadata": {},
   "outputs": [
    {
     "name": "stdout",
     "output_type": "stream",
     "text": [
      "{3: 4.5, 7: 4.5, 10: 4.5, 18: 4.5, 20: 4.5} \n",
      "\n",
      "160 ms ± 0 ns per loop (mean ± std. dev. of 1 run, 1 loop each)\n"
     ]
    }
   ],
   "source": [
    "%%timeit -n 1 -r 1\n",
    "print(ratings.Users.top_controversial(ratings),'\\n')"
   ]
  }
 ],
 "metadata": {
  "kernelspec": {
   "display_name": "woolsbub",
   "language": "python",
   "name": "python3"
  },
  "language_info": {
   "codemirror_mode": {
    "name": "ipython",
    "version": 3
   },
   "file_extension": ".py",
   "mimetype": "text/x-python",
   "name": "python",
   "nbconvert_exporter": "python",
   "pygments_lexer": "ipython3",
   "version": "3.12.3"
  }
 },
 "nbformat": 4,
 "nbformat_minor": 2
}
